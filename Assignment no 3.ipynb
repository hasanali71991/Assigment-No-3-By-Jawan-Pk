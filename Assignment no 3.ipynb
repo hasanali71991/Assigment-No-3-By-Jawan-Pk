{
 "cells": [
  {
   "cell_type": "code",
   "execution_count": 1,
   "id": "b7e4909d",
   "metadata": {},
   "outputs": [
    {
     "name": "stdout",
     "output_type": "stream",
     "text": [
      "Twinkle, twinkle, little star, \n",
      "\tHow I wonder what you are! \n",
      "\t\tUp above the world so high, \n",
      "\t\tLike a diamond in the sky. \n",
      "Twinkle, twinkle, little star, \n",
      "\tHow I wonder what you are!\n"
     ]
    }
   ],
   "source": [
    "# 1. Write a program to prlint the following spring im a specific format (see the output)\n",
    "\n",
    "print(\"Twinkle, twinkle, little star, \\n\\tHow I wonder what you are! \\n\\t\\tUp above the world so high, \\n\\t\\tLike a diamond in the sky. \\nTwinkle, twinkle, little star, \\n\\tHow I wonder what you are!\") \n"
   ]
  },
  {
   "cell_type": "code",
   "execution_count": 1,
   "id": "11c780f0",
   "metadata": {},
   "outputs": [
    {
     "name": "stdout",
     "output_type": "stream",
     "text": [
      "Python version\n",
      "3.8.8 (default, Apr 13 2021, 15:08:03) [MSC v.1916 64 bit (AMD64)]\n",
      "Version info.\n",
      "sys.version_info(major=3, minor=8, micro=8, releaselevel='final', serial=0)\n"
     ]
    }
   ],
   "source": [
    "# 2. write a python program to get the python version you are using\n",
    "\n",
    "import sys\n",
    "print(\"Python version\")\n",
    "print (sys.version)\n",
    "print(\"Version info.\")\n",
    "print (sys.version_info)\n"
   ]
  },
  {
   "cell_type": "code",
   "execution_count": 3,
   "id": "fc41ac58",
   "metadata": {},
   "outputs": [
    {
     "name": "stdout",
     "output_type": "stream",
     "text": [
      "Current date and time : \n",
      "2021-10-23 20:01:34\n"
     ]
    }
   ],
   "source": [
    "# 3. write a python program to display the current date and time\n",
    "\n",
    "import datetime\n",
    "now = datetime.datetime.now()\n",
    "print (\"Current date and time : \")\n",
    "print (now.strftime(\"%Y-%m-%d %H:%M:%S\"))\n"
   ]
  },
  {
   "cell_type": "code",
   "execution_count": 4,
   "id": "b67417d7",
   "metadata": {},
   "outputs": [
    {
     "name": "stdout",
     "output_type": "stream",
     "text": [
      "Input the radius of the circle : 4\n",
      "The area of the circle with radius 4.0 is: 50.26548245743669\n"
     ]
    }
   ],
   "source": [
    "# 4. Write a Python program which accepts the radius of a circle from the user and compute the area.\n",
    "\n",
    "from math import pi\n",
    "r = float(input (\"Input the radius of the circle : \"))\n",
    "print (\"The area of the circle with radius \" + str(r) + \" is: \" + str(pi * r**2))\n"
   ]
  },
  {
   "cell_type": "code",
   "execution_count": 5,
   "id": "5e18992b",
   "metadata": {},
   "outputs": [
    {
     "name": "stdout",
     "output_type": "stream",
     "text": [
      "Input your First Name : Hasan\n",
      "Input your Last Name : Ali\n",
      "Hello  Ali Hasan\n"
     ]
    }
   ],
   "source": [
    "# 5. Write a Python program which accepts the user's first and last name and print them in reverse order with a space between them.\n",
    "\n",
    "firstname = input(\"Input your First Name : \")\n",
    "lastname = input(\"Input your Last Name : \")\n",
    "print (\"Hello  \" + lastname + \" \" + firstname)\n",
    "\n"
   ]
  },
  {
   "cell_type": "code",
   "execution_count": 6,
   "id": "ca607df9",
   "metadata": {},
   "outputs": [
    {
     "name": "stdout",
     "output_type": "stream",
     "text": [
      "Enter first number: 5\n",
      "Enter second number: 5\n",
      "The sum of 5 and 5 is 10.0\n"
     ]
    }
   ],
   "source": [
    "# 6. Write a python program which takes two inputs from user and print them addition \n",
    "\n",
    "num1 = input('Enter first number: ')\n",
    "num2 = input('Enter second number: ')\n",
    "sum = float(num1) + float(num2)\n",
    "print('The sum of {0} and {1} is {2}'.format(num1, num2, sum))\n",
    "\n"
   ]
  },
  {
   "cell_type": "code",
   "execution_count": 2,
   "id": "2ec3ba87",
   "metadata": {},
   "outputs": [
    {
     "name": "stdout",
     "output_type": "stream",
     "text": [
      "Enter English Marks 75\n",
      "Enter Physics Marks 75\n",
      "Enter math Marks 75\n",
      "Enter Urdu Marks75\n",
      "Enter Islamiat marks75\n",
      "PERCENTAGE = 88.23529411764706\n",
      "GRADE : A-one\n",
      "TOTAL NUMBERS = 425\n",
      "OBTAINED NUMBERS = 375\n"
     ]
    }
   ],
   "source": [
    " \"\"\"7 .Write a program which takes 5 inputs from user for different subject’s marks, total it\n",
    "and generate mark sheet using grades\"\"\"\n",
    "\n",
    "English = int(input (\"Enter English Marks \")) ;\n",
    "Physics = int(input (\"Enter Physics Marks \"))  ;\n",
    "math = int(input (\"Enter math Marks \")) ;\n",
    "urdu = int(input (\"Enter Urdu Marks\"));\n",
    "Islamiat = int(input (\"Enter Islamiat marks\"))\n",
    "obtained_marks = English+Physics+math+urdu+Islamiat;\n",
    "total_marks =  425\n",
    "\n",
    "percentage = (obtained_marks*100)/total_marks \n",
    "\n",
    "print(\"PERCENTAGE =\",percentage);\n",
    "if percentage < 100 and percentage > 80 :\n",
    "    print(\"GRADE : A-one\") ;\n",
    "elif percentage < 80 and percentage > 70 :\n",
    "    print(\"GRADE : A\") ;\n",
    "elif percentage < 70 and percentage > 60 :\n",
    "    print (\"GRADE : B\");\n",
    "elif percentage < 60 and percentage > 50 :\n",
    "    print (\"GRADE : C\");\n",
    "elif percentage < 50 and percentage > 40 :\n",
    "    print (\"GRADE : D\");\n",
    "elif percentage < 40 and percentage > 30 :\n",
    "    print (\"GRADE E\");\n",
    "else :\n",
    "    print(\"RESULT = FAIL\");\n",
    "\n",
    "print(\"TOTAL NUMBERS =\",total_marks);\n",
    "print(\"OBTAINED NUMBERS =\",obtained_marks);\n",
    "    \n",
    "\n",
    "\n"
   ]
  },
  {
   "cell_type": "code",
   "execution_count": 5,
   "id": "cf191f37",
   "metadata": {},
   "outputs": [
    {
     "name": "stdout",
     "output_type": "stream",
     "text": [
      "Enter a number: 5\n",
      "This is an odd number.\n"
     ]
    }
   ],
   "source": [
    "# 8. Write a program which take input from user and identify that the given number is even or odd?\n",
    "\n",
    "number = int(input(\"Enter a number: \"))\n",
    "eveodd = number % 2\n",
    "if eveodd > 0:\n",
    "    print(\"This is an odd number.\")\n",
    "else:\n",
    "    print(\"This is an even number.\")"
   ]
  },
  {
   "cell_type": "code",
   "execution_count": 16,
   "id": "eb4766c8",
   "metadata": {},
   "outputs": [
    {
     "name": "stdout",
     "output_type": "stream",
     "text": [
      "items in the list =  8\n"
     ]
    }
   ],
   "source": [
    "# 9. Write a program which print the length of the list?\n",
    "\n",
    "list1 = [\"Hasan\", \"Ali\",  1, 2, 3, 4, 5, 6, ]\n",
    "print (\"items in the list = \", len(list1))"
   ]
  },
  {
   "cell_type": "code",
   "execution_count": 27,
   "id": "bdd952c7",
   "metadata": {},
   "outputs": [
    {
     "name": "stdout",
     "output_type": "stream",
     "text": [
      "200\n"
     ]
    }
   ],
   "source": [
    "# 10. Write a Python program to sum all the numeric items in a list?\n",
    "\n",
    "a = [4,5,89,5,33,8,56]\n",
    "total = sum(a)\n",
    "print(total);"
   ]
  },
  {
   "cell_type": "code",
   "execution_count": 29,
   "id": "a579bf87",
   "metadata": {},
   "outputs": [
    {
     "name": "stdout",
     "output_type": "stream",
     "text": [
      "Largest element is: 404\n"
     ]
    }
   ],
   "source": [
    "# 11. Write a Python program to get the largest number from a numeric list?\n",
    "\n",
    "list1 = [10, 20, 4, 45, 99,209,404,50,40]\n",
    "print(\"Largest element is:\", max(list1))"
   ]
  },
  {
   "cell_type": "code",
   "execution_count": 33,
   "id": "7d768b49",
   "metadata": {},
   "outputs": [
    {
     "name": "stdout",
     "output_type": "stream",
     "text": [
      "1\n",
      "1\n",
      "4\n",
      "2\n",
      "3\n"
     ]
    }
   ],
   "source": [
    "# 12. Take a list, Write a program that prints out all the elements of the list that are less than 5.\n",
    "\n",
    "a = [1, 1, 4, 2, 3, 5, 8, 13, 21, 34, 55, 89]\n",
    "\n",
    "for i in a:\n",
    "    if i < 5:\n",
    "        print(i);"
   ]
  },
  {
   "cell_type": "code",
   "execution_count": null,
   "id": "df38bc28",
   "metadata": {},
   "outputs": [],
   "source": []
  },
  {
   "cell_type": "code",
   "execution_count": null,
   "id": "45cbe815",
   "metadata": {},
   "outputs": [],
   "source": []
  }
 ],
 "metadata": {
  "kernelspec": {
   "display_name": "Python 3",
   "language": "python",
   "name": "python3"
  },
  "language_info": {
   "codemirror_mode": {
    "name": "ipython",
    "version": 3
   },
   "file_extension": ".py",
   "mimetype": "text/x-python",
   "name": "python",
   "nbconvert_exporter": "python",
   "pygments_lexer": "ipython3",
   "version": "3.8.8"
  }
 },
 "nbformat": 4,
 "nbformat_minor": 5
}
